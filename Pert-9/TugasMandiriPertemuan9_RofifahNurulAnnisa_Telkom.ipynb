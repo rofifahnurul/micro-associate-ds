{
  "nbformat": 4,
  "nbformat_minor": 5,
  "metadata": {
    "kernelspec": {
      "display_name": "Python 3",
      "language": "python",
      "name": "python3"
    },
    "language_info": {
      "codemirror_mode": {
        "name": "ipython",
        "version": 3
      },
      "file_extension": ".py",
      "mimetype": "text/x-python",
      "name": "python",
      "nbconvert_exporter": "python",
      "pygments_lexer": "ipython3",
      "version": "3.7.4"
    },
    "colab": {
      "name": "TugasMandiriPertemuan9_RofifahNurulAnnisa_Telkom.ipynb",
      "provenance": []
    }
  },
  "cells": [
    {
      "cell_type": "markdown",
      "metadata": {
        "id": "FhM9QP5dVPFH"
      },
      "source": [
        "![header%20ipynb.png](attachment:header%20ipynb.png)"
      ],
      "id": "FhM9QP5dVPFH"
    },
    {
      "cell_type": "markdown",
      "metadata": {
        "id": "8QVzpSvBVPFK"
      },
      "source": [
        "Rofifah Nurul Annisa (D121181508)"
      ],
      "id": "8QVzpSvBVPFK"
    },
    {
      "cell_type": "markdown",
      "metadata": {
        "id": "kLtsddDpVPFL"
      },
      "source": [
        "# Hands-On\n",
        "---\n",
        "\n",
        "Hands-On ini digunakan pada kegiatan Microcredential Associate Data Scientist 2021"
      ],
      "id": "kLtsddDpVPFL"
    },
    {
      "cell_type": "markdown",
      "metadata": {
        "id": "2NDEgE_JVPFM"
      },
      "source": [
        "# Pertemuan 9\n",
        "---\n",
        "Pertemuan 9 (sembilan) pada Microcredential Associate Data Scientist 2021 menyampaikan materi mengenai Mengkonstruksi Data"
      ],
      "id": "2NDEgE_JVPFM"
    },
    {
      "cell_type": "markdown",
      "metadata": {
        "id": "pe2gmUmFVPFN"
      },
      "source": [
        "## Pada Tugas Mandiri Pertemuan 9 \n",
        "\n",
        "#### silakan Anda kerjakan Latihan 1 s/d 10. Output yang anda lihat merupakan panduan yang dapat Anda ikuti dalam penulisan code :)"
      ],
      "id": "pe2gmUmFVPFN"
    },
    {
      "cell_type": "markdown",
      "metadata": {
        "id": "0lUAo4F2VPFb"
      },
      "source": [
        "# Latihan (1)\n",
        "\n",
        "### Melakukan import library yang dibutuhkan"
      ],
      "id": "0lUAo4F2VPFb"
    },
    {
      "cell_type": "code",
      "metadata": {
        "colab": {
          "base_uri": "https://localhost:8080/"
        },
        "id": "qDuc_TYeWT7i",
        "outputId": "640a734b-64d7-4381-c1dc-28627482fec0"
      },
      "source": [
        "pip install feature_engine"
      ],
      "id": "qDuc_TYeWT7i",
      "execution_count": null,
      "outputs": [
        {
          "output_type": "stream",
          "name": "stdout",
          "text": [
            "Collecting feature_engine\n",
            "  Downloading feature_engine-1.1.2-py2.py3-none-any.whl (180 kB)\n",
            "\u001b[?25l\r\u001b[K     |█▉                              | 10 kB 20.7 MB/s eta 0:00:01\r\u001b[K     |███▋                            | 20 kB 26.3 MB/s eta 0:00:01\r\u001b[K     |█████▌                          | 30 kB 12.8 MB/s eta 0:00:01\r\u001b[K     |███████▎                        | 40 kB 9.4 MB/s eta 0:00:01\r\u001b[K     |█████████                       | 51 kB 5.3 MB/s eta 0:00:01\r\u001b[K     |███████████                     | 61 kB 5.8 MB/s eta 0:00:01\r\u001b[K     |████████████▊                   | 71 kB 5.6 MB/s eta 0:00:01\r\u001b[K     |██████████████▌                 | 81 kB 6.2 MB/s eta 0:00:01\r\u001b[K     |████████████████▍               | 92 kB 6.1 MB/s eta 0:00:01\r\u001b[K     |██████████████████▏             | 102 kB 5.0 MB/s eta 0:00:01\r\u001b[K     |████████████████████            | 112 kB 5.0 MB/s eta 0:00:01\r\u001b[K     |█████████████████████▉          | 122 kB 5.0 MB/s eta 0:00:01\r\u001b[K     |███████████████████████▋        | 133 kB 5.0 MB/s eta 0:00:01\r\u001b[K     |█████████████████████████▌      | 143 kB 5.0 MB/s eta 0:00:01\r\u001b[K     |███████████████████████████▎    | 153 kB 5.0 MB/s eta 0:00:01\r\u001b[K     |█████████████████████████████   | 163 kB 5.0 MB/s eta 0:00:01\r\u001b[K     |███████████████████████████████ | 174 kB 5.0 MB/s eta 0:00:01\r\u001b[K     |████████████████████████████████| 180 kB 5.0 MB/s \n",
            "\u001b[?25hRequirement already satisfied: numpy>=1.18.2 in /usr/local/lib/python3.7/dist-packages (from feature_engine) (1.19.5)\n",
            "Requirement already satisfied: pandas>=1.0.3 in /usr/local/lib/python3.7/dist-packages (from feature_engine) (1.1.5)\n",
            "Requirement already satisfied: scipy>=1.4.1 in /usr/local/lib/python3.7/dist-packages (from feature_engine) (1.4.1)\n",
            "Requirement already satisfied: scikit-learn>=0.22.2 in /usr/local/lib/python3.7/dist-packages (from feature_engine) (1.0.1)\n",
            "Collecting statsmodels>=0.11.1\n",
            "  Downloading statsmodels-0.13.1-cp37-cp37m-manylinux_2_17_x86_64.manylinux2014_x86_64.whl (9.8 MB)\n",
            "\u001b[K     |████████████████████████████████| 9.8 MB 47.7 MB/s \n",
            "\u001b[?25hRequirement already satisfied: python-dateutil>=2.7.3 in /usr/local/lib/python3.7/dist-packages (from pandas>=1.0.3->feature_engine) (2.8.2)\n",
            "Requirement already satisfied: pytz>=2017.2 in /usr/local/lib/python3.7/dist-packages (from pandas>=1.0.3->feature_engine) (2018.9)\n",
            "Requirement already satisfied: six>=1.5 in /usr/local/lib/python3.7/dist-packages (from python-dateutil>=2.7.3->pandas>=1.0.3->feature_engine) (1.15.0)\n",
            "Requirement already satisfied: threadpoolctl>=2.0.0 in /usr/local/lib/python3.7/dist-packages (from scikit-learn>=0.22.2->feature_engine) (3.0.0)\n",
            "Requirement already satisfied: joblib>=0.11 in /usr/local/lib/python3.7/dist-packages (from scikit-learn>=0.22.2->feature_engine) (1.1.0)\n",
            "Requirement already satisfied: patsy>=0.5.2 in /usr/local/lib/python3.7/dist-packages (from statsmodels>=0.11.1->feature_engine) (0.5.2)\n",
            "Installing collected packages: statsmodels, feature-engine\n",
            "  Attempting uninstall: statsmodels\n",
            "    Found existing installation: statsmodels 0.10.2\n",
            "    Uninstalling statsmodels-0.10.2:\n",
            "      Successfully uninstalled statsmodels-0.10.2\n",
            "Successfully installed feature-engine-1.1.2 statsmodels-0.13.1\n"
          ]
        }
      ]
    },
    {
      "cell_type": "code",
      "metadata": {
        "id": "vWzZlQshVPFc"
      },
      "source": [
        "# import library pandas\n",
        "\n",
        "import pandas as pd\n",
        "\n",
        "# Import library scipy\n",
        "\n",
        "import scipy \n",
        "\n",
        "# Import library winsorize dari scipy\n",
        "from scipy.stats.mstats import winsorize\n",
        "\n",
        "# Import library trima dari scipy\n",
        "\n",
        "from scipy.stats.mstats import trima\n",
        "\n",
        "# Import library RandomSampleImputer dari feature engine imputation\n",
        "\n",
        "from feature_engine.imputation import RandomSampleImputer\n",
        "\n",
        "# import library StandardScaler dari sklearn\n",
        "from sklearn.preprocessing import StandardScaler"
      ],
      "id": "vWzZlQshVPFc",
      "execution_count": null,
      "outputs": []
    },
    {
      "cell_type": "markdown",
      "metadata": {
        "id": "7a_lBDnNVPFf"
      },
      "source": [
        "# Latihan (2)\n",
        "\n",
        "### Menghitung nilai null pada dataset :\n",
        "\n",
        "    1. Load dataset Iris_Unclean\n",
        "    2. Tampilkan dataset\n",
        "    3. Hitung jumlah nilai null pada dataset"
      ],
      "id": "7a_lBDnNVPFf"
    },
    {
      "cell_type": "code",
      "metadata": {
        "id": "maFfpH3OVPFh"
      },
      "source": [
        "# load dataset Iris_Unclean\n",
        "df = pd.read_csv('Iris_unclean.csv')"
      ],
      "id": "maFfpH3OVPFh",
      "execution_count": null,
      "outputs": []
    },
    {
      "cell_type": "code",
      "metadata": {
        "colab": {
          "base_uri": "https://localhost:8080/",
          "height": 419
        },
        "id": "Y0h7PmG5VPFi",
        "outputId": "362f8169-b0f5-4eba-edc0-f88ea963d467"
      },
      "source": [
        "# tampilkan dataset\n",
        "df\n"
      ],
      "id": "Y0h7PmG5VPFi",
      "execution_count": null,
      "outputs": [
        {
          "output_type": "execute_result",
          "data": {
            "text/html": [
              "<div>\n",
              "<style scoped>\n",
              "    .dataframe tbody tr th:only-of-type {\n",
              "        vertical-align: middle;\n",
              "    }\n",
              "\n",
              "    .dataframe tbody tr th {\n",
              "        vertical-align: top;\n",
              "    }\n",
              "\n",
              "    .dataframe thead th {\n",
              "        text-align: right;\n",
              "    }\n",
              "</style>\n",
              "<table border=\"1\" class=\"dataframe\">\n",
              "  <thead>\n",
              "    <tr style=\"text-align: right;\">\n",
              "      <th></th>\n",
              "      <th>SepalLengthCm</th>\n",
              "      <th>SepalWidthCm</th>\n",
              "      <th>PetalLengthCm</th>\n",
              "      <th>PetalWidthCm</th>\n",
              "      <th>Species</th>\n",
              "    </tr>\n",
              "  </thead>\n",
              "  <tbody>\n",
              "    <tr>\n",
              "      <th>0</th>\n",
              "      <td>NaN</td>\n",
              "      <td>3.5</td>\n",
              "      <td>1.4</td>\n",
              "      <td>0.2</td>\n",
              "      <td>Iris-setosa</td>\n",
              "    </tr>\n",
              "    <tr>\n",
              "      <th>1</th>\n",
              "      <td>4.9</td>\n",
              "      <td>2000.0</td>\n",
              "      <td>1.4</td>\n",
              "      <td>0.2</td>\n",
              "      <td>Iris-setosa</td>\n",
              "    </tr>\n",
              "    <tr>\n",
              "      <th>2</th>\n",
              "      <td>4.7</td>\n",
              "      <td>3.2</td>\n",
              "      <td>-1.3</td>\n",
              "      <td>0.2</td>\n",
              "      <td>Iris-setosa</td>\n",
              "    </tr>\n",
              "    <tr>\n",
              "      <th>3</th>\n",
              "      <td>4.6</td>\n",
              "      <td>3.1</td>\n",
              "      <td>1.5</td>\n",
              "      <td>0.2</td>\n",
              "      <td>Iris-setosa</td>\n",
              "    </tr>\n",
              "    <tr>\n",
              "      <th>4</th>\n",
              "      <td>5.0</td>\n",
              "      <td>3.6</td>\n",
              "      <td>1.4</td>\n",
              "      <td>0.2</td>\n",
              "      <td>Iris-setosa</td>\n",
              "    </tr>\n",
              "    <tr>\n",
              "      <th>...</th>\n",
              "      <td>...</td>\n",
              "      <td>...</td>\n",
              "      <td>...</td>\n",
              "      <td>...</td>\n",
              "      <td>...</td>\n",
              "    </tr>\n",
              "    <tr>\n",
              "      <th>145</th>\n",
              "      <td>6.7</td>\n",
              "      <td>3.0</td>\n",
              "      <td>5.2</td>\n",
              "      <td>2.3</td>\n",
              "      <td>Iris-virginica</td>\n",
              "    </tr>\n",
              "    <tr>\n",
              "      <th>146</th>\n",
              "      <td>6.3</td>\n",
              "      <td>2.5</td>\n",
              "      <td>5.0</td>\n",
              "      <td>1.9</td>\n",
              "      <td>Iris-virginica</td>\n",
              "    </tr>\n",
              "    <tr>\n",
              "      <th>147</th>\n",
              "      <td>6.5</td>\n",
              "      <td>3.0</td>\n",
              "      <td>5.2</td>\n",
              "      <td>2.0</td>\n",
              "      <td>Iris-virginica</td>\n",
              "    </tr>\n",
              "    <tr>\n",
              "      <th>148</th>\n",
              "      <td>6.2</td>\n",
              "      <td>3.4</td>\n",
              "      <td>5.4</td>\n",
              "      <td>2.3</td>\n",
              "      <td>Iris-virginica</td>\n",
              "    </tr>\n",
              "    <tr>\n",
              "      <th>149</th>\n",
              "      <td>5.9</td>\n",
              "      <td>3.0</td>\n",
              "      <td>5.1</td>\n",
              "      <td>1.8</td>\n",
              "      <td>Iris-virginica</td>\n",
              "    </tr>\n",
              "  </tbody>\n",
              "</table>\n",
              "<p>150 rows × 5 columns</p>\n",
              "</div>"
            ],
            "text/plain": [
              "     SepalLengthCm  SepalWidthCm  PetalLengthCm  PetalWidthCm         Species\n",
              "0              NaN           3.5            1.4           0.2     Iris-setosa\n",
              "1              4.9        2000.0            1.4           0.2     Iris-setosa\n",
              "2              4.7           3.2           -1.3           0.2     Iris-setosa\n",
              "3              4.6           3.1            1.5           0.2     Iris-setosa\n",
              "4              5.0           3.6            1.4           0.2     Iris-setosa\n",
              "..             ...           ...            ...           ...             ...\n",
              "145            6.7           3.0            5.2           2.3  Iris-virginica\n",
              "146            6.3           2.5            5.0           1.9  Iris-virginica\n",
              "147            6.5           3.0            5.2           2.0  Iris-virginica\n",
              "148            6.2           3.4            5.4           2.3  Iris-virginica\n",
              "149            5.9           3.0            5.1           1.8  Iris-virginica\n",
              "\n",
              "[150 rows x 5 columns]"
            ]
          },
          "metadata": {},
          "execution_count": 6
        }
      ]
    },
    {
      "cell_type": "code",
      "metadata": {
        "colab": {
          "base_uri": "https://localhost:8080/"
        },
        "id": "jho5A2oEVPFi",
        "outputId": "68f8733a-7e90-4031-87f8-b644c06c2f40"
      },
      "source": [
        "# hitung jumlah nilai null pada dataset\n",
        "\n",
        "df.isnull().sum()"
      ],
      "id": "jho5A2oEVPFi",
      "execution_count": null,
      "outputs": [
        {
          "output_type": "execute_result",
          "data": {
            "text/plain": [
              "SepalLengthCm    2\n",
              "SepalWidthCm     0\n",
              "PetalLengthCm    0\n",
              "PetalWidthCm     0\n",
              "Species          0\n",
              "dtype: int64"
            ]
          },
          "metadata": {},
          "execution_count": 7
        }
      ]
    },
    {
      "cell_type": "markdown",
      "metadata": {
        "id": "XcQypbyoVPFj"
      },
      "source": [
        "# Latihan (3)\n",
        "\n",
        "### Melakukan handle missing value dengan Imputasi Mean:\n",
        "\n",
        "     1. Load dataset Iris_Unclean\n",
        "     2. Ambil 10 data teratas \"SepalLengthCm\", kemudian tampilkan\n",
        "     3. Mengganti missing value Imputasi dengan mean, kemudian masukkan ke variable\n",
        "     4. Tampilkan 10 data teratas \"SepalLengthCm\" setelah handle missing value dengan Imputasi mean()"
      ],
      "id": "XcQypbyoVPFj"
    },
    {
      "cell_type": "code",
      "metadata": {
        "colab": {
          "base_uri": "https://localhost:8080/",
          "height": 419
        },
        "id": "C4kJZqMQVPFk",
        "outputId": "da47d003-f16f-4812-d22b-dfa7b0d6c900"
      },
      "source": [
        "# load dataset Iris_Unclean\n",
        "\n",
        "df"
      ],
      "id": "C4kJZqMQVPFk",
      "execution_count": null,
      "outputs": [
        {
          "output_type": "execute_result",
          "data": {
            "text/html": [
              "<div>\n",
              "<style scoped>\n",
              "    .dataframe tbody tr th:only-of-type {\n",
              "        vertical-align: middle;\n",
              "    }\n",
              "\n",
              "    .dataframe tbody tr th {\n",
              "        vertical-align: top;\n",
              "    }\n",
              "\n",
              "    .dataframe thead th {\n",
              "        text-align: right;\n",
              "    }\n",
              "</style>\n",
              "<table border=\"1\" class=\"dataframe\">\n",
              "  <thead>\n",
              "    <tr style=\"text-align: right;\">\n",
              "      <th></th>\n",
              "      <th>SepalLengthCm</th>\n",
              "      <th>SepalWidthCm</th>\n",
              "      <th>PetalLengthCm</th>\n",
              "      <th>PetalWidthCm</th>\n",
              "      <th>Species</th>\n",
              "    </tr>\n",
              "  </thead>\n",
              "  <tbody>\n",
              "    <tr>\n",
              "      <th>0</th>\n",
              "      <td>NaN</td>\n",
              "      <td>3.5</td>\n",
              "      <td>1.4</td>\n",
              "      <td>0.2</td>\n",
              "      <td>Iris-setosa</td>\n",
              "    </tr>\n",
              "    <tr>\n",
              "      <th>1</th>\n",
              "      <td>4.9</td>\n",
              "      <td>2000.0</td>\n",
              "      <td>1.4</td>\n",
              "      <td>0.2</td>\n",
              "      <td>Iris-setosa</td>\n",
              "    </tr>\n",
              "    <tr>\n",
              "      <th>2</th>\n",
              "      <td>4.7</td>\n",
              "      <td>3.2</td>\n",
              "      <td>-1.3</td>\n",
              "      <td>0.2</td>\n",
              "      <td>Iris-setosa</td>\n",
              "    </tr>\n",
              "    <tr>\n",
              "      <th>3</th>\n",
              "      <td>4.6</td>\n",
              "      <td>3.1</td>\n",
              "      <td>1.5</td>\n",
              "      <td>0.2</td>\n",
              "      <td>Iris-setosa</td>\n",
              "    </tr>\n",
              "    <tr>\n",
              "      <th>4</th>\n",
              "      <td>5.0</td>\n",
              "      <td>3.6</td>\n",
              "      <td>1.4</td>\n",
              "      <td>0.2</td>\n",
              "      <td>Iris-setosa</td>\n",
              "    </tr>\n",
              "    <tr>\n",
              "      <th>...</th>\n",
              "      <td>...</td>\n",
              "      <td>...</td>\n",
              "      <td>...</td>\n",
              "      <td>...</td>\n",
              "      <td>...</td>\n",
              "    </tr>\n",
              "    <tr>\n",
              "      <th>145</th>\n",
              "      <td>6.7</td>\n",
              "      <td>3.0</td>\n",
              "      <td>5.2</td>\n",
              "      <td>2.3</td>\n",
              "      <td>Iris-virginica</td>\n",
              "    </tr>\n",
              "    <tr>\n",
              "      <th>146</th>\n",
              "      <td>6.3</td>\n",
              "      <td>2.5</td>\n",
              "      <td>5.0</td>\n",
              "      <td>1.9</td>\n",
              "      <td>Iris-virginica</td>\n",
              "    </tr>\n",
              "    <tr>\n",
              "      <th>147</th>\n",
              "      <td>6.5</td>\n",
              "      <td>3.0</td>\n",
              "      <td>5.2</td>\n",
              "      <td>2.0</td>\n",
              "      <td>Iris-virginica</td>\n",
              "    </tr>\n",
              "    <tr>\n",
              "      <th>148</th>\n",
              "      <td>6.2</td>\n",
              "      <td>3.4</td>\n",
              "      <td>5.4</td>\n",
              "      <td>2.3</td>\n",
              "      <td>Iris-virginica</td>\n",
              "    </tr>\n",
              "    <tr>\n",
              "      <th>149</th>\n",
              "      <td>5.9</td>\n",
              "      <td>3.0</td>\n",
              "      <td>5.1</td>\n",
              "      <td>1.8</td>\n",
              "      <td>Iris-virginica</td>\n",
              "    </tr>\n",
              "  </tbody>\n",
              "</table>\n",
              "<p>150 rows × 5 columns</p>\n",
              "</div>"
            ],
            "text/plain": [
              "     SepalLengthCm  SepalWidthCm  PetalLengthCm  PetalWidthCm         Species\n",
              "0              NaN           3.5            1.4           0.2     Iris-setosa\n",
              "1              4.9        2000.0            1.4           0.2     Iris-setosa\n",
              "2              4.7           3.2           -1.3           0.2     Iris-setosa\n",
              "3              4.6           3.1            1.5           0.2     Iris-setosa\n",
              "4              5.0           3.6            1.4           0.2     Iris-setosa\n",
              "..             ...           ...            ...           ...             ...\n",
              "145            6.7           3.0            5.2           2.3  Iris-virginica\n",
              "146            6.3           2.5            5.0           1.9  Iris-virginica\n",
              "147            6.5           3.0            5.2           2.0  Iris-virginica\n",
              "148            6.2           3.4            5.4           2.3  Iris-virginica\n",
              "149            5.9           3.0            5.1           1.8  Iris-virginica\n",
              "\n",
              "[150 rows x 5 columns]"
            ]
          },
          "metadata": {},
          "execution_count": 8
        }
      ]
    },
    {
      "cell_type": "code",
      "metadata": {
        "colab": {
          "base_uri": "https://localhost:8080/",
          "height": 359
        },
        "id": "oq8qlgjIVPFk",
        "outputId": "94789b7f-d7b6-4cc4-ac25-e3c1f76d23d6"
      },
      "source": [
        "# ambil 10 data teratas SepalLengthCm, kemudian tampilkan\n",
        "\n",
        "df = df.head(10)\n",
        "df"
      ],
      "id": "oq8qlgjIVPFk",
      "execution_count": null,
      "outputs": [
        {
          "output_type": "execute_result",
          "data": {
            "text/html": [
              "<div>\n",
              "<style scoped>\n",
              "    .dataframe tbody tr th:only-of-type {\n",
              "        vertical-align: middle;\n",
              "    }\n",
              "\n",
              "    .dataframe tbody tr th {\n",
              "        vertical-align: top;\n",
              "    }\n",
              "\n",
              "    .dataframe thead th {\n",
              "        text-align: right;\n",
              "    }\n",
              "</style>\n",
              "<table border=\"1\" class=\"dataframe\">\n",
              "  <thead>\n",
              "    <tr style=\"text-align: right;\">\n",
              "      <th></th>\n",
              "      <th>SepalLengthCm</th>\n",
              "      <th>SepalWidthCm</th>\n",
              "      <th>PetalLengthCm</th>\n",
              "      <th>PetalWidthCm</th>\n",
              "      <th>Species</th>\n",
              "    </tr>\n",
              "  </thead>\n",
              "  <tbody>\n",
              "    <tr>\n",
              "      <th>0</th>\n",
              "      <td>NaN</td>\n",
              "      <td>3.5</td>\n",
              "      <td>1.4</td>\n",
              "      <td>0.2</td>\n",
              "      <td>Iris-setosa</td>\n",
              "    </tr>\n",
              "    <tr>\n",
              "      <th>1</th>\n",
              "      <td>4.9</td>\n",
              "      <td>2000.0</td>\n",
              "      <td>1.4</td>\n",
              "      <td>0.2</td>\n",
              "      <td>Iris-setosa</td>\n",
              "    </tr>\n",
              "    <tr>\n",
              "      <th>2</th>\n",
              "      <td>4.7</td>\n",
              "      <td>3.2</td>\n",
              "      <td>-1.3</td>\n",
              "      <td>0.2</td>\n",
              "      <td>Iris-setosa</td>\n",
              "    </tr>\n",
              "    <tr>\n",
              "      <th>3</th>\n",
              "      <td>4.6</td>\n",
              "      <td>3.1</td>\n",
              "      <td>1.5</td>\n",
              "      <td>0.2</td>\n",
              "      <td>Iris-setosa</td>\n",
              "    </tr>\n",
              "    <tr>\n",
              "      <th>4</th>\n",
              "      <td>5.0</td>\n",
              "      <td>3.6</td>\n",
              "      <td>1.4</td>\n",
              "      <td>0.2</td>\n",
              "      <td>Iris-setosa</td>\n",
              "    </tr>\n",
              "    <tr>\n",
              "      <th>5</th>\n",
              "      <td>5.4</td>\n",
              "      <td>3.9</td>\n",
              "      <td>1.7</td>\n",
              "      <td>0.4</td>\n",
              "      <td>Iris-setosa</td>\n",
              "    </tr>\n",
              "    <tr>\n",
              "      <th>6</th>\n",
              "      <td>NaN</td>\n",
              "      <td>3.4</td>\n",
              "      <td>1.4</td>\n",
              "      <td>0.3</td>\n",
              "      <td>Iris-setosa</td>\n",
              "    </tr>\n",
              "    <tr>\n",
              "      <th>7</th>\n",
              "      <td>5.0</td>\n",
              "      <td>3.4</td>\n",
              "      <td>-1.5</td>\n",
              "      <td>0.2</td>\n",
              "      <td>Iris-setosa</td>\n",
              "    </tr>\n",
              "    <tr>\n",
              "      <th>8</th>\n",
              "      <td>4.4</td>\n",
              "      <td>1500.0</td>\n",
              "      <td>1.4</td>\n",
              "      <td>0.2</td>\n",
              "      <td>Iris-setosa</td>\n",
              "    </tr>\n",
              "    <tr>\n",
              "      <th>9</th>\n",
              "      <td>4.9</td>\n",
              "      <td>3.1</td>\n",
              "      <td>1.5</td>\n",
              "      <td>0.1</td>\n",
              "      <td>Iris-setosa</td>\n",
              "    </tr>\n",
              "  </tbody>\n",
              "</table>\n",
              "</div>"
            ],
            "text/plain": [
              "   SepalLengthCm  SepalWidthCm  PetalLengthCm  PetalWidthCm      Species\n",
              "0            NaN           3.5            1.4           0.2  Iris-setosa\n",
              "1            4.9        2000.0            1.4           0.2  Iris-setosa\n",
              "2            4.7           3.2           -1.3           0.2  Iris-setosa\n",
              "3            4.6           3.1            1.5           0.2  Iris-setosa\n",
              "4            5.0           3.6            1.4           0.2  Iris-setosa\n",
              "5            5.4           3.9            1.7           0.4  Iris-setosa\n",
              "6            NaN           3.4            1.4           0.3  Iris-setosa\n",
              "7            5.0           3.4           -1.5           0.2  Iris-setosa\n",
              "8            4.4        1500.0            1.4           0.2  Iris-setosa\n",
              "9            4.9           3.1            1.5           0.1  Iris-setosa"
            ]
          },
          "metadata": {},
          "execution_count": 9
        }
      ]
    },
    {
      "cell_type": "code",
      "metadata": {
        "id": "pNuYLDV9VPFl"
      },
      "source": [
        "# mengganti missing value dengan mean(), kemudian masukkan ke variabel\n",
        "\n",
        "df = df.fillna(df.mean())"
      ],
      "id": "pNuYLDV9VPFl",
      "execution_count": null,
      "outputs": []
    },
    {
      "cell_type": "code",
      "metadata": {
        "colab": {
          "base_uri": "https://localhost:8080/"
        },
        "id": "5k4azNusVPFm",
        "outputId": "3edfdf40-fbc2-4b1c-91cd-785a4cfadbd5"
      },
      "source": [
        "# tampilkan 10 data teratas SepalLengthCm setelah handle missing value dengan imputasi mean\n",
        "\n",
        "df['SepalLengthCm'].head(10)"
      ],
      "id": "5k4azNusVPFm",
      "execution_count": null,
      "outputs": [
        {
          "output_type": "execute_result",
          "data": {
            "text/plain": [
              "0    4.8625\n",
              "1    4.9000\n",
              "2    4.7000\n",
              "3    4.6000\n",
              "4    5.0000\n",
              "5    5.4000\n",
              "6    4.8625\n",
              "7    5.0000\n",
              "8    4.4000\n",
              "9    4.9000\n",
              "Name: SepalLengthCm, dtype: float64"
            ]
          },
          "metadata": {},
          "execution_count": 11
        }
      ]
    },
    {
      "cell_type": "markdown",
      "metadata": {
        "id": "Z3jgm3vAVPFm"
      },
      "source": [
        "# Latihan (4)\n",
        "\n",
        "### Melakukan handle missing value dengan nilai suka-suka (Arbitrary):\n",
        "\n",
        "     1. Load dataset Iris_Unclean\n",
        "     2. Ambil 10 data teratas \"SepalLengthCm\", kemudian tampilkan\n",
        "     3. Mengganti missing value dengan imputasi nilai suka-suka (Arbitrary), kemudian masukkan ke variable\n",
        "     4. Tampilkan 10 data teratas \"SepalLengthCm\" setelah handle missing value dengan nilai suka-suka "
      ],
      "id": "Z3jgm3vAVPFm"
    },
    {
      "cell_type": "code",
      "metadata": {
        "id": "0RSx8PPKVPFn"
      },
      "source": [
        "# load dataset Iris_Unclean\n",
        "df = pd.read_csv(\"Iris_unclean.csv\")"
      ],
      "id": "0RSx8PPKVPFn",
      "execution_count": null,
      "outputs": []
    },
    {
      "cell_type": "code",
      "metadata": {
        "colab": {
          "base_uri": "https://localhost:8080/"
        },
        "id": "K01TJXnAVPFo",
        "outputId": "5ac8cac2-d82c-41b7-f401-31de69345667"
      },
      "source": [
        "# ambil 10 data teratas SepalLengthCm, kemudian tampilkan\n",
        "\n",
        "df =df['SepalLengthCm'].head(10)\n",
        "df"
      ],
      "id": "K01TJXnAVPFo",
      "execution_count": null,
      "outputs": [
        {
          "output_type": "execute_result",
          "data": {
            "text/plain": [
              "0    NaN\n",
              "1    4.9\n",
              "2    4.7\n",
              "3    4.6\n",
              "4    5.0\n",
              "5    5.4\n",
              "6    NaN\n",
              "7    5.0\n",
              "8    4.4\n",
              "9    4.9\n",
              "Name: SepalLengthCm, dtype: float64"
            ]
          },
          "metadata": {},
          "execution_count": 17
        }
      ]
    },
    {
      "cell_type": "code",
      "metadata": {
        "id": "VqGoMP2fVPFo"
      },
      "source": [
        "# melakukan imputasi nilai suka-suka (Arbitrary), masukkan ke dalam variabel\n",
        "\n",
        "df = df.fillna(99)"
      ],
      "id": "VqGoMP2fVPFo",
      "execution_count": null,
      "outputs": []
    },
    {
      "cell_type": "code",
      "metadata": {
        "colab": {
          "base_uri": "https://localhost:8080/"
        },
        "id": "lhWMt-tuVPFp",
        "outputId": "8e6d7c59-0ffd-49ea-e9e2-456fa61031c7"
      },
      "source": [
        "# tampilkan 10 data teratas SepalLengthCm setelah handle missing value dengan nilai suka-suka (arbitary)\n",
        "\n",
        "df.head(10)"
      ],
      "id": "lhWMt-tuVPFp",
      "execution_count": null,
      "outputs": [
        {
          "output_type": "execute_result",
          "data": {
            "text/plain": [
              "0    99.0\n",
              "1     4.9\n",
              "2     4.7\n",
              "3     4.6\n",
              "4     5.0\n",
              "5     5.4\n",
              "6    99.0\n",
              "7     5.0\n",
              "8     4.4\n",
              "9     4.9\n",
              "Name: SepalLengthCm, dtype: float64"
            ]
          },
          "metadata": {},
          "execution_count": 19
        }
      ]
    },
    {
      "cell_type": "markdown",
      "metadata": {
        "id": "cNVVv4lKVPFq"
      },
      "source": [
        "# Latihan (5)\n",
        "\n",
        "### Melakukan handle missing value dengan frequent category / modus:\n",
        "\n",
        "     1. Load dataset Iris_Unclean\n",
        "     2. Ambil 10 data teratas \"SepalLengthCm\", kemudian tampilkan\n",
        "     3. Mengganti missing value dengan frequent category / modus\n",
        "     4. Tampilkan hasil imputasi \"SepalLengthCm\" setelah handle dengan frequent category / modus"
      ],
      "id": "cNVVv4lKVPFq"
    },
    {
      "cell_type": "code",
      "metadata": {
        "id": "yqf3HZ7eVPFq"
      },
      "source": [
        "# load dataset Iris_Unclean\n",
        "\n",
        "df = pd.read_csv(\"Iris_unclean.csv\")"
      ],
      "id": "yqf3HZ7eVPFq",
      "execution_count": null,
      "outputs": []
    },
    {
      "cell_type": "code",
      "metadata": {
        "colab": {
          "base_uri": "https://localhost:8080/"
        },
        "id": "HBvlUZEYVPFq",
        "outputId": "f5d6b5f0-3541-4ce8-9ae9-3496e3c344b5"
      },
      "source": [
        "# tampilkan 10 data teratas kolom SepalLengthCm\n",
        "\n",
        "df['SepalLengthCm'].head(10)"
      ],
      "id": "HBvlUZEYVPFq",
      "execution_count": null,
      "outputs": [
        {
          "output_type": "execute_result",
          "data": {
            "text/plain": [
              "0    NaN\n",
              "1    4.9\n",
              "2    4.7\n",
              "3    4.6\n",
              "4    5.0\n",
              "5    5.4\n",
              "6    NaN\n",
              "7    5.0\n",
              "8    4.4\n",
              "9    4.9\n",
              "Name: SepalLengthCm, dtype: float64"
            ]
          },
          "metadata": {},
          "execution_count": 23
        }
      ]
    },
    {
      "cell_type": "code",
      "metadata": {
        "id": "znFvLAOeVPFr"
      },
      "source": [
        "# Import SimpleImputer dari sklearn.impute\n",
        "\n",
        "from sklearn.impute import SimpleImputer\n",
        "\n",
        "# Mengatasi missing value dengan frequent category / modus\n",
        "\n",
        "imp = SimpleImputer(strategy='most_frequent')"
      ],
      "id": "znFvLAOeVPFr",
      "execution_count": null,
      "outputs": []
    },
    {
      "cell_type": "code",
      "metadata": {
        "colab": {
          "base_uri": "https://localhost:8080/"
        },
        "id": "iIAgX9wmVPFs",
        "outputId": "883b40eb-1261-46ef-d66b-5e7cf2faa149"
      },
      "source": [
        "# Tampilkan hasil imputasi \"SepalLengthCm\"\n",
        "\n",
        "imp.fit_transform(df[['SepalLengthCm']])"
      ],
      "id": "iIAgX9wmVPFs",
      "execution_count": null,
      "outputs": [
        {
          "output_type": "execute_result",
          "data": {
            "text/plain": [
              "array([[5. ],\n",
              "       [4.9],\n",
              "       [4.7],\n",
              "       [4.6],\n",
              "       [5. ],\n",
              "       [5.4],\n",
              "       [5. ],\n",
              "       [5. ],\n",
              "       [4.4],\n",
              "       [4.9],\n",
              "       [5.4],\n",
              "       [4.8],\n",
              "       [4.8],\n",
              "       [4.3],\n",
              "       [5.8],\n",
              "       [5.7],\n",
              "       [5.4],\n",
              "       [5.1],\n",
              "       [5.7],\n",
              "       [5.1],\n",
              "       [5.4],\n",
              "       [5.1],\n",
              "       [4.6],\n",
              "       [5.1],\n",
              "       [4.8],\n",
              "       [5. ],\n",
              "       [5. ],\n",
              "       [5.2],\n",
              "       [5.2],\n",
              "       [4.7],\n",
              "       [4.8],\n",
              "       [5.4],\n",
              "       [5.2],\n",
              "       [5.5],\n",
              "       [4.9],\n",
              "       [5. ],\n",
              "       [5.5],\n",
              "       [4.9],\n",
              "       [4.4],\n",
              "       [5.1],\n",
              "       [5. ],\n",
              "       [4.5],\n",
              "       [4.4],\n",
              "       [5. ],\n",
              "       [5.1],\n",
              "       [4.8],\n",
              "       [5.1],\n",
              "       [4.6],\n",
              "       [5.3],\n",
              "       [5. ],\n",
              "       [7. ],\n",
              "       [6.4],\n",
              "       [6.9],\n",
              "       [5.5],\n",
              "       [6.5],\n",
              "       [5.7],\n",
              "       [6.3],\n",
              "       [4.9],\n",
              "       [6.6],\n",
              "       [5.2],\n",
              "       [5. ],\n",
              "       [5.9],\n",
              "       [6. ],\n",
              "       [6.1],\n",
              "       [5.6],\n",
              "       [6.7],\n",
              "       [5.6],\n",
              "       [5.8],\n",
              "       [6.2],\n",
              "       [5.6],\n",
              "       [5.9],\n",
              "       [6.1],\n",
              "       [6.3],\n",
              "       [6.1],\n",
              "       [6.4],\n",
              "       [6.6],\n",
              "       [6.8],\n",
              "       [6.7],\n",
              "       [6. ],\n",
              "       [5.7],\n",
              "       [5.5],\n",
              "       [5.5],\n",
              "       [5.8],\n",
              "       [6. ],\n",
              "       [5.4],\n",
              "       [6. ],\n",
              "       [6.7],\n",
              "       [6.3],\n",
              "       [5.6],\n",
              "       [5.5],\n",
              "       [5.5],\n",
              "       [6.1],\n",
              "       [5.8],\n",
              "       [5. ],\n",
              "       [5.6],\n",
              "       [5.7],\n",
              "       [5.7],\n",
              "       [6.2],\n",
              "       [5.1],\n",
              "       [5.7],\n",
              "       [6.3],\n",
              "       [5.8],\n",
              "       [7.1],\n",
              "       [6.3],\n",
              "       [6.5],\n",
              "       [7.6],\n",
              "       [4.9],\n",
              "       [7.3],\n",
              "       [6.7],\n",
              "       [7.2],\n",
              "       [6.5],\n",
              "       [6.4],\n",
              "       [6.8],\n",
              "       [5.7],\n",
              "       [5.8],\n",
              "       [6.4],\n",
              "       [6.5],\n",
              "       [7.7],\n",
              "       [7.7],\n",
              "       [6. ],\n",
              "       [6.9],\n",
              "       [5.6],\n",
              "       [7.7],\n",
              "       [6.3],\n",
              "       [6.7],\n",
              "       [7.2],\n",
              "       [6.2],\n",
              "       [6.1],\n",
              "       [6.4],\n",
              "       [7.2],\n",
              "       [7.4],\n",
              "       [7.9],\n",
              "       [6.4],\n",
              "       [6.3],\n",
              "       [6.1],\n",
              "       [7.7],\n",
              "       [6.3],\n",
              "       [6.4],\n",
              "       [6. ],\n",
              "       [6.9],\n",
              "       [6.7],\n",
              "       [6.9],\n",
              "       [5.8],\n",
              "       [6.8],\n",
              "       [6.7],\n",
              "       [6.7],\n",
              "       [6.3],\n",
              "       [6.5],\n",
              "       [6.2],\n",
              "       [5.9]])"
            ]
          },
          "metadata": {},
          "execution_count": 25
        }
      ]
    },
    {
      "cell_type": "markdown",
      "metadata": {
        "id": "EKRWbX96VPFs"
      },
      "source": [
        "# Latihan (6)\n",
        "\n",
        "### Melakukan handle missing value dengan Imputasi Random Sample:\n",
        "\n",
        "     1. Load dataset Iris_Unclean\n",
        "     2. Tampilkan 10 data teratas\n",
        "     3. Membuat imputer random sample dengan random state = 5\n",
        "     4. Cocokan imputer ke data\n",
        "     5. Ubah data dengan imputer masukkan ke dalam variable\n",
        "     6. Tampilkan hasil imputasi data \"SepalLengthCm\""
      ],
      "id": "EKRWbX96VPFs"
    },
    {
      "cell_type": "code",
      "metadata": {
        "id": "DHFOWXRGVPFs"
      },
      "source": [
        "# load dataset Iris_Unclean\n",
        "\n",
        "df = pd.read_csv(\"Iris_unclean.csv\")"
      ],
      "id": "DHFOWXRGVPFs",
      "execution_count": null,
      "outputs": []
    },
    {
      "cell_type": "code",
      "metadata": {
        "colab": {
          "base_uri": "https://localhost:8080/"
        },
        "id": "ySaElHfXVPFu",
        "outputId": "bcd05940-0d7f-4224-ec5d-66c86d56784f"
      },
      "source": [
        "# tampilkan 10 data teratas SepalLengthCm\n",
        "\n",
        "df['SepalLengthCm'].head(10)"
      ],
      "id": "ySaElHfXVPFu",
      "execution_count": null,
      "outputs": [
        {
          "output_type": "execute_result",
          "data": {
            "text/plain": [
              "0    NaN\n",
              "1    4.9\n",
              "2    4.7\n",
              "3    4.6\n",
              "4    5.0\n",
              "5    5.4\n",
              "6    NaN\n",
              "7    5.0\n",
              "8    4.4\n",
              "9    4.9\n",
              "Name: SepalLengthCm, dtype: float64"
            ]
          },
          "metadata": {},
          "execution_count": 30
        }
      ]
    },
    {
      "cell_type": "code",
      "metadata": {
        "id": "6uNvi4MIVPFu"
      },
      "source": [
        "# Membuat imputer random sample dengan random state = 5\n",
        "\n",
        "imputer = RandomSampleImputer(random_state=5)\n",
        "\n",
        "# Cocokan imputer ke data\n",
        "\n",
        "imputer.fit(df)\n",
        "\n",
        "# Ubah data dengan imputer masukkan ke dalam variable\n",
        "\n",
        "test_t = imputer.transform(df)"
      ],
      "id": "6uNvi4MIVPFu",
      "execution_count": null,
      "outputs": []
    },
    {
      "cell_type": "code",
      "metadata": {
        "colab": {
          "base_uri": "https://localhost:8080/",
          "height": 419
        },
        "id": "BkC1Z1owVPFu",
        "outputId": "48015671-59f1-456b-c209-db739a0b5e5d"
      },
      "source": [
        "# Tampilkan data hasil imputasi data \"SepalLengthCm\"\n",
        "\n",
        "test_t"
      ],
      "id": "BkC1Z1owVPFu",
      "execution_count": null,
      "outputs": [
        {
          "output_type": "execute_result",
          "data": {
            "text/html": [
              "<div>\n",
              "<style scoped>\n",
              "    .dataframe tbody tr th:only-of-type {\n",
              "        vertical-align: middle;\n",
              "    }\n",
              "\n",
              "    .dataframe tbody tr th {\n",
              "        vertical-align: top;\n",
              "    }\n",
              "\n",
              "    .dataframe thead th {\n",
              "        text-align: right;\n",
              "    }\n",
              "</style>\n",
              "<table border=\"1\" class=\"dataframe\">\n",
              "  <thead>\n",
              "    <tr style=\"text-align: right;\">\n",
              "      <th></th>\n",
              "      <th>SepalLengthCm</th>\n",
              "      <th>SepalWidthCm</th>\n",
              "      <th>PetalLengthCm</th>\n",
              "      <th>PetalWidthCm</th>\n",
              "      <th>Species</th>\n",
              "    </tr>\n",
              "  </thead>\n",
              "  <tbody>\n",
              "    <tr>\n",
              "      <th>0</th>\n",
              "      <td>5.8</td>\n",
              "      <td>3.5</td>\n",
              "      <td>1.4</td>\n",
              "      <td>0.2</td>\n",
              "      <td>Iris-setosa</td>\n",
              "    </tr>\n",
              "    <tr>\n",
              "      <th>1</th>\n",
              "      <td>4.9</td>\n",
              "      <td>2000.0</td>\n",
              "      <td>1.4</td>\n",
              "      <td>0.2</td>\n",
              "      <td>Iris-setosa</td>\n",
              "    </tr>\n",
              "    <tr>\n",
              "      <th>2</th>\n",
              "      <td>4.7</td>\n",
              "      <td>3.2</td>\n",
              "      <td>-1.3</td>\n",
              "      <td>0.2</td>\n",
              "      <td>Iris-setosa</td>\n",
              "    </tr>\n",
              "    <tr>\n",
              "      <th>3</th>\n",
              "      <td>4.6</td>\n",
              "      <td>3.1</td>\n",
              "      <td>1.5</td>\n",
              "      <td>0.2</td>\n",
              "      <td>Iris-setosa</td>\n",
              "    </tr>\n",
              "    <tr>\n",
              "      <th>4</th>\n",
              "      <td>5.0</td>\n",
              "      <td>3.6</td>\n",
              "      <td>1.4</td>\n",
              "      <td>0.2</td>\n",
              "      <td>Iris-setosa</td>\n",
              "    </tr>\n",
              "    <tr>\n",
              "      <th>...</th>\n",
              "      <td>...</td>\n",
              "      <td>...</td>\n",
              "      <td>...</td>\n",
              "      <td>...</td>\n",
              "      <td>...</td>\n",
              "    </tr>\n",
              "    <tr>\n",
              "      <th>145</th>\n",
              "      <td>6.7</td>\n",
              "      <td>3.0</td>\n",
              "      <td>5.2</td>\n",
              "      <td>2.3</td>\n",
              "      <td>Iris-virginica</td>\n",
              "    </tr>\n",
              "    <tr>\n",
              "      <th>146</th>\n",
              "      <td>6.3</td>\n",
              "      <td>2.5</td>\n",
              "      <td>5.0</td>\n",
              "      <td>1.9</td>\n",
              "      <td>Iris-virginica</td>\n",
              "    </tr>\n",
              "    <tr>\n",
              "      <th>147</th>\n",
              "      <td>6.5</td>\n",
              "      <td>3.0</td>\n",
              "      <td>5.2</td>\n",
              "      <td>2.0</td>\n",
              "      <td>Iris-virginica</td>\n",
              "    </tr>\n",
              "    <tr>\n",
              "      <th>148</th>\n",
              "      <td>6.2</td>\n",
              "      <td>3.4</td>\n",
              "      <td>5.4</td>\n",
              "      <td>2.3</td>\n",
              "      <td>Iris-virginica</td>\n",
              "    </tr>\n",
              "    <tr>\n",
              "      <th>149</th>\n",
              "      <td>5.9</td>\n",
              "      <td>3.0</td>\n",
              "      <td>5.1</td>\n",
              "      <td>1.8</td>\n",
              "      <td>Iris-virginica</td>\n",
              "    </tr>\n",
              "  </tbody>\n",
              "</table>\n",
              "<p>150 rows × 5 columns</p>\n",
              "</div>"
            ],
            "text/plain": [
              "     SepalLengthCm  SepalWidthCm  PetalLengthCm  PetalWidthCm         Species\n",
              "0              5.8           3.5            1.4           0.2     Iris-setosa\n",
              "1              4.9        2000.0            1.4           0.2     Iris-setosa\n",
              "2              4.7           3.2           -1.3           0.2     Iris-setosa\n",
              "3              4.6           3.1            1.5           0.2     Iris-setosa\n",
              "4              5.0           3.6            1.4           0.2     Iris-setosa\n",
              "..             ...           ...            ...           ...             ...\n",
              "145            6.7           3.0            5.2           2.3  Iris-virginica\n",
              "146            6.3           2.5            5.0           1.9  Iris-virginica\n",
              "147            6.5           3.0            5.2           2.0  Iris-virginica\n",
              "148            6.2           3.4            5.4           2.3  Iris-virginica\n",
              "149            5.9           3.0            5.1           1.8  Iris-virginica\n",
              "\n",
              "[150 rows x 5 columns]"
            ]
          },
          "metadata": {},
          "execution_count": 33
        }
      ]
    },
    {
      "cell_type": "markdown",
      "metadata": {
        "id": "xLHkbajTVPFv"
      },
      "source": [
        "# Latihan (7)\n",
        "\n",
        "### Melakukan Winsorizing\n",
        "\n",
        "    1. Import library winsorize dari scipy\n",
        "    2. Load data Iris_AfterClean\n",
        "    3. Ambil 10 data teratas \"SepalLengthCm\", kemudian masukkan ke dalam variabel datan tampilkan\n",
        "    4. Winsorize data dengan batas nilai terendah 10% dan batas nilai tinggi 20%\n",
        "    5. Tampilkan hasil winsorize"
      ],
      "id": "xLHkbajTVPFv"
    },
    {
      "cell_type": "code",
      "metadata": {
        "id": "QSOfTdyBVPFw"
      },
      "source": [
        "# Import library scipy\n",
        "\n",
        "from scipy.stats.mstats import winsorize"
      ],
      "id": "QSOfTdyBVPFw",
      "execution_count": null,
      "outputs": []
    },
    {
      "cell_type": "code",
      "metadata": {
        "colab": {
          "base_uri": "https://localhost:8080/"
        },
        "id": "3epzxGYsVPFw",
        "outputId": "74157d3f-d46e-4c4e-b9f4-7deb96e1e981"
      },
      "source": [
        "# Load data Iris_AfterClean\n",
        "data = pd.read_csv('Iris_AfterClean.csv')\n",
        "\n",
        "# Ambil 10 data teratas \"SepalLengthCm\", kemudian masukkan ke dalam variabel datan tampilkan\n",
        "a = data['SepalLengthCm'].head(10)\n",
        "a"
      ],
      "id": "3epzxGYsVPFw",
      "execution_count": null,
      "outputs": [
        {
          "output_type": "execute_result",
          "data": {
            "text/plain": [
              "0    4.6\n",
              "1    5.0\n",
              "2    5.4\n",
              "3    4.9\n",
              "4    5.4\n",
              "5    4.8\n",
              "6    4.8\n",
              "7    4.3\n",
              "8    5.8\n",
              "9    5.4\n",
              "Name: SepalLengthCm, dtype: float64"
            ]
          },
          "metadata": {},
          "execution_count": 36
        }
      ]
    },
    {
      "cell_type": "code",
      "metadata": {
        "colab": {
          "base_uri": "https://localhost:8080/"
        },
        "id": "L7Df7dPWVPFw",
        "outputId": "28aee3be-3d8c-4c2d-b0a8-718225665278"
      },
      "source": [
        "# Winsorize data dengan batas nilai terendah 10% dan batas nilai tinggi 20%\n",
        "\n",
        "wins = winsorize(a, limits=[0.1, 0.2])\n",
        "\n",
        "# Tampilkan hasil winsorize\n",
        "print(wins)"
      ],
      "id": "L7Df7dPWVPFw",
      "execution_count": null,
      "outputs": [
        {
          "output_type": "stream",
          "name": "stdout",
          "text": [
            "[4.6 5.  5.4 4.9 5.4 4.8 4.8 4.6 5.4 5.4]\n"
          ]
        }
      ]
    },
    {
      "cell_type": "markdown",
      "metadata": {
        "id": "8D3eyTP9VPFx"
      },
      "source": [
        "# Latihan (8)\n",
        "\n",
        "### Melakukan Trimming\n",
        "\n",
        "    1. Import library trima dari scopy\n",
        "    2. Load data Iris_AfterClean\n",
        "    3. Ambil 10 data teratas \"SepalLengthCm\", kemudian masukkan ke dalam variabel datan tampilkan\n",
        "    4. Trimming data dengan batas nilai terendah 2 dan batas nilai tinggi 5\n",
        "    5. Tampilkan hasil trimming"
      ],
      "id": "8D3eyTP9VPFx"
    },
    {
      "cell_type": "code",
      "metadata": {
        "id": "NQIr6doaVPFx"
      },
      "source": [
        "# Import library trima dari scopy\n",
        "\n",
        "from scipy.stats.mstats import trima"
      ],
      "id": "NQIr6doaVPFx",
      "execution_count": null,
      "outputs": []
    },
    {
      "cell_type": "code",
      "metadata": {
        "colab": {
          "base_uri": "https://localhost:8080/"
        },
        "id": "5C9oP6NOVPFx",
        "outputId": "21eb4d17-0102-4302-d81a-726a2bfb1d91"
      },
      "source": [
        "# Load data Iris_AfterClean\n",
        "data = pd.read_csv('Iris_AfterClean.csv')\n",
        "\n",
        "# Ambil 10 data teratas \"SepalLengthCm\", kemudian masukkan ke dalam variabel datan tampilkan\n",
        "a = data['SepalLengthCm'].head(10)\n",
        "a"
      ],
      "id": "5C9oP6NOVPFx",
      "execution_count": null,
      "outputs": [
        {
          "output_type": "execute_result",
          "data": {
            "text/plain": [
              "0    4.6\n",
              "1    5.0\n",
              "2    5.4\n",
              "3    4.9\n",
              "4    5.4\n",
              "5    4.8\n",
              "6    4.8\n",
              "7    4.3\n",
              "8    5.8\n",
              "9    5.4\n",
              "Name: SepalLengthCm, dtype: float64"
            ]
          },
          "metadata": {},
          "execution_count": 39
        }
      ]
    },
    {
      "cell_type": "code",
      "metadata": {
        "colab": {
          "base_uri": "https://localhost:8080/"
        },
        "id": "MxYQGhyrVPFy",
        "outputId": "f3e22199-7673-4c65-c690-34dab647c0ab"
      },
      "source": [
        "# Trimming data dengan batas nilai terendah 2 dan batas nilai tinggi 5\n",
        "\n",
        "trims = trima(a, limits=(2,5))\n",
        "\n",
        "# Tampilkan hasil trimming\n",
        "\n",
        "print(trims)"
      ],
      "id": "MxYQGhyrVPFy",
      "execution_count": null,
      "outputs": [
        {
          "output_type": "stream",
          "name": "stdout",
          "text": [
            "[4.6 5.0 -- 4.9 -- 4.8 4.8 4.3 -- --]\n"
          ]
        }
      ]
    },
    {
      "cell_type": "markdown",
      "metadata": {
        "id": "zTMxwMIuVPFy"
      },
      "source": [
        "# Latihan (9)\n",
        "\n",
        "### Melakukan Scaling: Normalisasi\n",
        "\n",
        "    1. Load data Iris_AfterClean \n",
        "    2. Ambil 10 data teratas SepalLengthCm dan SepalWidthCm\n",
        "    3. Menghitung mean data\n",
        "    4. Menghitung max - min pada data\n",
        "    5. Menerapkan transformasi ke data\n",
        "    6. Tampilkan hasil scalling"
      ],
      "id": "zTMxwMIuVPFy"
    },
    {
      "cell_type": "code",
      "metadata": {
        "colab": {
          "base_uri": "https://localhost:8080/",
          "height": 359
        },
        "id": "U2_-C1tQVPFy",
        "outputId": "113ebaa0-7567-492d-e1b4-046ca71c74d0"
      },
      "source": [
        "# Load data Iris_AfterClean \n",
        "\n",
        "data = pd.read_csv('Iris_AfterClean.csv')\n",
        "\n",
        "# Ambil 10 data teratas SepalLengthCm dan SepalWidthCm\n",
        "\n",
        "data = data.iloc[:,0:2].head(10)\n",
        "data"
      ],
      "id": "U2_-C1tQVPFy",
      "execution_count": null,
      "outputs": [
        {
          "output_type": "execute_result",
          "data": {
            "text/html": [
              "<div>\n",
              "<style scoped>\n",
              "    .dataframe tbody tr th:only-of-type {\n",
              "        vertical-align: middle;\n",
              "    }\n",
              "\n",
              "    .dataframe tbody tr th {\n",
              "        vertical-align: top;\n",
              "    }\n",
              "\n",
              "    .dataframe thead th {\n",
              "        text-align: right;\n",
              "    }\n",
              "</style>\n",
              "<table border=\"1\" class=\"dataframe\">\n",
              "  <thead>\n",
              "    <tr style=\"text-align: right;\">\n",
              "      <th></th>\n",
              "      <th>SepalLengthCm</th>\n",
              "      <th>SepalWidthCm</th>\n",
              "    </tr>\n",
              "  </thead>\n",
              "  <tbody>\n",
              "    <tr>\n",
              "      <th>0</th>\n",
              "      <td>4.6</td>\n",
              "      <td>3.1</td>\n",
              "    </tr>\n",
              "    <tr>\n",
              "      <th>1</th>\n",
              "      <td>5.0</td>\n",
              "      <td>3.6</td>\n",
              "    </tr>\n",
              "    <tr>\n",
              "      <th>2</th>\n",
              "      <td>5.4</td>\n",
              "      <td>3.9</td>\n",
              "    </tr>\n",
              "    <tr>\n",
              "      <th>3</th>\n",
              "      <td>4.9</td>\n",
              "      <td>3.1</td>\n",
              "    </tr>\n",
              "    <tr>\n",
              "      <th>4</th>\n",
              "      <td>5.4</td>\n",
              "      <td>3.7</td>\n",
              "    </tr>\n",
              "    <tr>\n",
              "      <th>5</th>\n",
              "      <td>4.8</td>\n",
              "      <td>3.4</td>\n",
              "    </tr>\n",
              "    <tr>\n",
              "      <th>6</th>\n",
              "      <td>4.8</td>\n",
              "      <td>3.0</td>\n",
              "    </tr>\n",
              "    <tr>\n",
              "      <th>7</th>\n",
              "      <td>4.3</td>\n",
              "      <td>3.0</td>\n",
              "    </tr>\n",
              "    <tr>\n",
              "      <th>8</th>\n",
              "      <td>5.8</td>\n",
              "      <td>4.0</td>\n",
              "    </tr>\n",
              "    <tr>\n",
              "      <th>9</th>\n",
              "      <td>5.4</td>\n",
              "      <td>3.9</td>\n",
              "    </tr>\n",
              "  </tbody>\n",
              "</table>\n",
              "</div>"
            ],
            "text/plain": [
              "   SepalLengthCm  SepalWidthCm\n",
              "0            4.6           3.1\n",
              "1            5.0           3.6\n",
              "2            5.4           3.9\n",
              "3            4.9           3.1\n",
              "4            5.4           3.7\n",
              "5            4.8           3.4\n",
              "6            4.8           3.0\n",
              "7            4.3           3.0\n",
              "8            5.8           4.0\n",
              "9            5.4           3.9"
            ]
          },
          "metadata": {},
          "execution_count": 47
        }
      ]
    },
    {
      "cell_type": "code",
      "metadata": {
        "id": "69jln7K6VPFz"
      },
      "source": [
        "# Menghitung mean\n",
        "means = data.mean(axis=0)\n",
        "\n",
        "# menghitung max - min\n",
        "max_min = data.max(axis=0) - data.min(axis=0)\n",
        "\n",
        "# menerapkan transformasi ke data\n",
        "train_scaled = (data - means)/max_min"
      ],
      "id": "69jln7K6VPFz",
      "execution_count": null,
      "outputs": []
    },
    {
      "cell_type": "code",
      "metadata": {
        "colab": {
          "base_uri": "https://localhost:8080/",
          "height": 359
        },
        "id": "0QVbhVfeVPFz",
        "outputId": "75a1c1d9-0d72-4236-fbcb-8710d93309a0"
      },
      "source": [
        "# Tampilkan hasil scalling\n",
        "\n",
        "train_scaled"
      ],
      "id": "0QVbhVfeVPFz",
      "execution_count": null,
      "outputs": [
        {
          "output_type": "execute_result",
          "data": {
            "text/html": [
              "<div>\n",
              "<style scoped>\n",
              "    .dataframe tbody tr th:only-of-type {\n",
              "        vertical-align: middle;\n",
              "    }\n",
              "\n",
              "    .dataframe tbody tr th {\n",
              "        vertical-align: top;\n",
              "    }\n",
              "\n",
              "    .dataframe thead th {\n",
              "        text-align: right;\n",
              "    }\n",
              "</style>\n",
              "<table border=\"1\" class=\"dataframe\">\n",
              "  <thead>\n",
              "    <tr style=\"text-align: right;\">\n",
              "      <th></th>\n",
              "      <th>SepalLengthCm</th>\n",
              "      <th>SepalWidthCm</th>\n",
              "    </tr>\n",
              "  </thead>\n",
              "  <tbody>\n",
              "    <tr>\n",
              "      <th>0</th>\n",
              "      <td>-0.293333</td>\n",
              "      <td>-0.37</td>\n",
              "    </tr>\n",
              "    <tr>\n",
              "      <th>1</th>\n",
              "      <td>-0.026667</td>\n",
              "      <td>0.13</td>\n",
              "    </tr>\n",
              "    <tr>\n",
              "      <th>2</th>\n",
              "      <td>0.240000</td>\n",
              "      <td>0.43</td>\n",
              "    </tr>\n",
              "    <tr>\n",
              "      <th>3</th>\n",
              "      <td>-0.093333</td>\n",
              "      <td>-0.37</td>\n",
              "    </tr>\n",
              "    <tr>\n",
              "      <th>4</th>\n",
              "      <td>0.240000</td>\n",
              "      <td>0.23</td>\n",
              "    </tr>\n",
              "    <tr>\n",
              "      <th>5</th>\n",
              "      <td>-0.160000</td>\n",
              "      <td>-0.07</td>\n",
              "    </tr>\n",
              "    <tr>\n",
              "      <th>6</th>\n",
              "      <td>-0.160000</td>\n",
              "      <td>-0.47</td>\n",
              "    </tr>\n",
              "    <tr>\n",
              "      <th>7</th>\n",
              "      <td>-0.493333</td>\n",
              "      <td>-0.47</td>\n",
              "    </tr>\n",
              "    <tr>\n",
              "      <th>8</th>\n",
              "      <td>0.506667</td>\n",
              "      <td>0.53</td>\n",
              "    </tr>\n",
              "    <tr>\n",
              "      <th>9</th>\n",
              "      <td>0.240000</td>\n",
              "      <td>0.43</td>\n",
              "    </tr>\n",
              "  </tbody>\n",
              "</table>\n",
              "</div>"
            ],
            "text/plain": [
              "   SepalLengthCm  SepalWidthCm\n",
              "0      -0.293333         -0.37\n",
              "1      -0.026667          0.13\n",
              "2       0.240000          0.43\n",
              "3      -0.093333         -0.37\n",
              "4       0.240000          0.23\n",
              "5      -0.160000         -0.07\n",
              "6      -0.160000         -0.47\n",
              "7      -0.493333         -0.47\n",
              "8       0.506667          0.53\n",
              "9       0.240000          0.43"
            ]
          },
          "metadata": {},
          "execution_count": 49
        }
      ]
    },
    {
      "cell_type": "markdown",
      "metadata": {
        "id": "OimDSEbYVPFz"
      },
      "source": [
        "# Latihan (10)\n",
        "\n",
        "### Melakukan Scaling: Standardisasi\n",
        "\n",
        "    1. Load data Iris_AfterClean \n",
        "    2. Ambil 10 data teratas SepalLengthCm dan SepalWidthCm\n",
        "    2. Import library StandardScaler dari sklearn\n",
        "    3. Membuat objek scaler\n",
        "    4. Sesuaikan scaler dengan data\n",
        "    5. Mengubah data \n",
        "    6. Tampilkan hasil scalling dengan standarisasi"
      ],
      "id": "OimDSEbYVPFz"
    },
    {
      "cell_type": "code",
      "metadata": {
        "colab": {
          "base_uri": "https://localhost:8080/",
          "height": 359
        },
        "id": "RM3rE6oQVPF0",
        "outputId": "875b9c1d-6462-413f-821f-088bd6b7ef6b"
      },
      "source": [
        "# Load data Iris_AfterClean \n",
        "\n",
        "data = pd.read_csv('Iris_AfterClean.csv')\n",
        "\n",
        "# Ambil 10 data teratas SepalLengthCm dan SepalWidthCm\n",
        "\n",
        "data = data.iloc[:,0:2].head(10)\n",
        "data"
      ],
      "id": "RM3rE6oQVPF0",
      "execution_count": null,
      "outputs": [
        {
          "output_type": "execute_result",
          "data": {
            "text/html": [
              "<div>\n",
              "<style scoped>\n",
              "    .dataframe tbody tr th:only-of-type {\n",
              "        vertical-align: middle;\n",
              "    }\n",
              "\n",
              "    .dataframe tbody tr th {\n",
              "        vertical-align: top;\n",
              "    }\n",
              "\n",
              "    .dataframe thead th {\n",
              "        text-align: right;\n",
              "    }\n",
              "</style>\n",
              "<table border=\"1\" class=\"dataframe\">\n",
              "  <thead>\n",
              "    <tr style=\"text-align: right;\">\n",
              "      <th></th>\n",
              "      <th>SepalLengthCm</th>\n",
              "      <th>SepalWidthCm</th>\n",
              "    </tr>\n",
              "  </thead>\n",
              "  <tbody>\n",
              "    <tr>\n",
              "      <th>0</th>\n",
              "      <td>4.6</td>\n",
              "      <td>3.1</td>\n",
              "    </tr>\n",
              "    <tr>\n",
              "      <th>1</th>\n",
              "      <td>5.0</td>\n",
              "      <td>3.6</td>\n",
              "    </tr>\n",
              "    <tr>\n",
              "      <th>2</th>\n",
              "      <td>5.4</td>\n",
              "      <td>3.9</td>\n",
              "    </tr>\n",
              "    <tr>\n",
              "      <th>3</th>\n",
              "      <td>4.9</td>\n",
              "      <td>3.1</td>\n",
              "    </tr>\n",
              "    <tr>\n",
              "      <th>4</th>\n",
              "      <td>5.4</td>\n",
              "      <td>3.7</td>\n",
              "    </tr>\n",
              "    <tr>\n",
              "      <th>5</th>\n",
              "      <td>4.8</td>\n",
              "      <td>3.4</td>\n",
              "    </tr>\n",
              "    <tr>\n",
              "      <th>6</th>\n",
              "      <td>4.8</td>\n",
              "      <td>3.0</td>\n",
              "    </tr>\n",
              "    <tr>\n",
              "      <th>7</th>\n",
              "      <td>4.3</td>\n",
              "      <td>3.0</td>\n",
              "    </tr>\n",
              "    <tr>\n",
              "      <th>8</th>\n",
              "      <td>5.8</td>\n",
              "      <td>4.0</td>\n",
              "    </tr>\n",
              "    <tr>\n",
              "      <th>9</th>\n",
              "      <td>5.4</td>\n",
              "      <td>3.9</td>\n",
              "    </tr>\n",
              "  </tbody>\n",
              "</table>\n",
              "</div>"
            ],
            "text/plain": [
              "   SepalLengthCm  SepalWidthCm\n",
              "0            4.6           3.1\n",
              "1            5.0           3.6\n",
              "2            5.4           3.9\n",
              "3            4.9           3.1\n",
              "4            5.4           3.7\n",
              "5            4.8           3.4\n",
              "6            4.8           3.0\n",
              "7            4.3           3.0\n",
              "8            5.8           4.0\n",
              "9            5.4           3.9"
            ]
          },
          "metadata": {},
          "execution_count": 51
        }
      ]
    },
    {
      "cell_type": "code",
      "metadata": {
        "id": "mO5udBmYVPF0"
      },
      "source": [
        "# import library StandardScaler dari sklearn\n",
        "from sklearn.preprocessing import StandardScaler\n",
        "\n",
        "# Buat objek scaler\n",
        "scaler = StandardScaler()\n",
        "\n",
        "# Sesuaikan scaler dengan data\n",
        "scaler.fit(data)\n",
        "\n",
        "# Mengubah data\n",
        "train_scaled = scaler.transform(data)"
      ],
      "id": "mO5udBmYVPF0",
      "execution_count": null,
      "outputs": []
    },
    {
      "cell_type": "code",
      "metadata": {
        "colab": {
          "base_uri": "https://localhost:8080/"
        },
        "id": "yCxcCou0VPF0",
        "outputId": "ab1ce9c9-1c74-4180-e614-4d70178f6277"
      },
      "source": [
        "# Tampilkan hasil\n",
        "\n",
        "train_scaled"
      ],
      "id": "yCxcCou0VPF0",
      "execution_count": null,
      "outputs": [
        {
          "output_type": "execute_result",
          "data": {
            "text/plain": [
              "array([[-1.02464215, -0.97469723],\n",
              "       [-0.09314929,  0.34246119],\n",
              "       [ 0.83834358,  1.13275625],\n",
              "       [-0.3260225 , -0.97469723],\n",
              "       [ 0.83834358,  0.60589288],\n",
              "       [-0.55889572, -0.18440218],\n",
              "       [-0.55889572, -1.23812892],\n",
              "       [-1.7232618 , -1.23812892],\n",
              "       [ 1.76983644,  1.39618793],\n",
              "       [ 0.83834358,  1.13275625]])"
            ]
          },
          "metadata": {},
          "execution_count": 53
        }
      ]
    },
    {
      "cell_type": "code",
      "metadata": {
        "id": "fLeMUYDYVPF1"
      },
      "source": [
        ""
      ],
      "id": "fLeMUYDYVPF1",
      "execution_count": null,
      "outputs": []
    }
  ]
}
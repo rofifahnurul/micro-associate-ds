{
  "nbformat": 4,
  "nbformat_minor": 0,
  "metadata": {
    "colab": {
      "name": "TugasBesar_Microcredential_Group10_TelU02",
      "provenance": [],
      "collapsed_sections": []
    },
    "kernelspec": {
      "name": "python3",
      "display_name": "Python 3"
    },
    "language_info": {
      "name": "python"
    }
  },
  "cells": [
    {
      "cell_type": "markdown",
      "metadata": {
        "id": "t0XMVIIj3CUs"
      },
      "source": [
        "# **Exploratory Data Analysis**\n",
        "\n",
        "\n",
        "---\n",
        "\n",
        "\n",
        "Melakukan eksplorasi dan persiapan data untuk membangun model.\n",
        "Data yang dipakai dari \n",
        "\n",
        "> https://opendata.jabarprov.go.id/id/dataset?organization=badan-penanggulangan-bencana-daerah\n",
        "\n",
        "\n",
        "\n"
      ]
    },
    {
      "cell_type": "code",
      "metadata": {
        "id": "2ObR8nCW3Fut"
      },
      "source": [
        "import matplotlib.pyplot as plt\n",
        "import numpy as np\n",
        "import pandas as pd\n",
        "import seaborn as sns\n",
        "%matplotlib inline\n",
        "import matplotlib.cm as cm\n"
      ],
      "execution_count": 64,
      "outputs": []
    },
    {
      "cell_type": "code",
      "metadata": {
        "id": "h9A_Va4z7wHj"
      },
      "source": [
        "df1 = pd.read_csv('angin_topan_puting_beliung.csv')\n",
        "df2 = pd.read_csv('banjir.csv')\n",
        "df3 = pd.read_csv('gelombang_pasang.csv')\n",
        "df4 = pd.read_csv('gempa_bumi.csv')\n",
        "df5 = pd.read_csv('kebakaran.csv')\n",
        "df6 = pd.read_csv('kebakaran_bangunan.csv')\n",
        "df7 = pd.read_csv('kebakaran_lahan.csv')\n",
        "df8 = pd.read_csv('tanah_longsor.csv')\n"
      ],
      "execution_count": 65,
      "outputs": []
    },
    {
      "cell_type": "code",
      "metadata": {
        "colab": {
          "base_uri": "https://localhost:8080/"
        },
        "id": "UQVqkqakM_mb",
        "outputId": "cfa7f5c3-9b3e-42d7-b864-933f992c86cb"
      },
      "source": [
        "df6.isnull().any()"
      ],
      "execution_count": 66,
      "outputs": [
        {
          "output_type": "execute_result",
          "data": {
            "text/plain": [
              "id                           False\n",
              "kode_provinsi                False\n",
              "nama_provinsi                False\n",
              "kode_kabupaten_kota          False\n",
              "nama_kabupaten_kota          False\n",
              "jumlah_kebakaran_bangunan    False\n",
              "satuan                       False\n",
              "tahun                        False\n",
              "dtype: bool"
            ]
          },
          "metadata": {},
          "execution_count": 66
        }
      ]
    },
    {
      "cell_type": "code",
      "metadata": {
        "id": "ktP4b1BgM8Ja"
      },
      "source": [
        "key_columns=['id','kode_provinsi','nama_provinsi','kode_kabupaten_kota','nama_kabupaten_kota','satuan','tahun']\n",
        "\n"
      ],
      "execution_count": 67,
      "outputs": []
    },
    {
      "cell_type": "code",
      "metadata": {
        "id": "uo1lKIyGOcNd"
      },
      "source": [
        "df_1 = pd.merge(df1,df2, how='left', on=key_columns)\n",
        "df_2 = pd.merge(df_1, df3, how='left',on=key_columns)\n",
        "df_3 = pd.merge(df_2, df4, how='left',on=key_columns)\n",
        "df_4 = pd.merge(df_3, df5, how='left',on=key_columns)\n",
        "df_5 = pd.merge(df_4, df6, how='left',on=key_columns)\n",
        "df_6 = pd.merge(df_5, df7, how='left',on=key_columns)\n",
        "df = pd.merge(df_6, df8, how='left',on=key_columns)"
      ],
      "execution_count": 68,
      "outputs": []
    },
    {
      "cell_type": "code",
      "metadata": {
        "id": "pfA9eMN7dLs1"
      },
      "source": [
        "df.to_csv('bencana.csv', index=False)"
      ],
      "execution_count": 69,
      "outputs": []
    },
    {
      "cell_type": "code",
      "metadata": {
        "colab": {
          "base_uri": "https://localhost:8080/",
          "height": 275
        },
        "id": "59uemySeN4Hx",
        "outputId": "09aea9c3-0699-42d1-c5f2-5dd05215b90a"
      },
      "source": [
        "data = pd.read_csv(\"bencana.csv\")\n",
        "data.head()"
      ],
      "execution_count": 70,
      "outputs": [
        {
          "output_type": "execute_result",
          "data": {
            "text/html": [
              "<div>\n",
              "<style scoped>\n",
              "    .dataframe tbody tr th:only-of-type {\n",
              "        vertical-align: middle;\n",
              "    }\n",
              "\n",
              "    .dataframe tbody tr th {\n",
              "        vertical-align: top;\n",
              "    }\n",
              "\n",
              "    .dataframe thead th {\n",
              "        text-align: right;\n",
              "    }\n",
              "</style>\n",
              "<table border=\"1\" class=\"dataframe\">\n",
              "  <thead>\n",
              "    <tr style=\"text-align: right;\">\n",
              "      <th></th>\n",
              "      <th>id</th>\n",
              "      <th>kode_provinsi</th>\n",
              "      <th>nama_provinsi</th>\n",
              "      <th>kode_kabupaten_kota</th>\n",
              "      <th>nama_kabupaten_kota</th>\n",
              "      <th>jumlah_puting_beliung</th>\n",
              "      <th>satuan</th>\n",
              "      <th>tahun</th>\n",
              "      <th>jumlah_banjir</th>\n",
              "      <th>jumlah_gelombang_pasang</th>\n",
              "      <th>jumlah_gempa_bumi</th>\n",
              "      <th>jumlah_kebakaran</th>\n",
              "      <th>jumlah_kebakaran_bangunan</th>\n",
              "      <th>jumlah_kebakaran_lahan</th>\n",
              "      <th>jumlah_tanah_longsor</th>\n",
              "    </tr>\n",
              "  </thead>\n",
              "  <tbody>\n",
              "    <tr>\n",
              "      <th>0</th>\n",
              "      <td>1</td>\n",
              "      <td>32</td>\n",
              "      <td>JAWA BARAT</td>\n",
              "      <td>3201</td>\n",
              "      <td>KABUPATEN BOGOR</td>\n",
              "      <td>2</td>\n",
              "      <td>KEJADIAN</td>\n",
              "      <td>2012</td>\n",
              "      <td>0</td>\n",
              "      <td>0</td>\n",
              "      <td>3</td>\n",
              "      <td>0.0</td>\n",
              "      <td>NaN</td>\n",
              "      <td>NaN</td>\n",
              "      <td>0</td>\n",
              "    </tr>\n",
              "    <tr>\n",
              "      <th>1</th>\n",
              "      <td>2</td>\n",
              "      <td>32</td>\n",
              "      <td>JAWA BARAT</td>\n",
              "      <td>3202</td>\n",
              "      <td>KABUPATEN SUKABUMI</td>\n",
              "      <td>27</td>\n",
              "      <td>KEJADIAN</td>\n",
              "      <td>2012</td>\n",
              "      <td>20</td>\n",
              "      <td>0</td>\n",
              "      <td>41</td>\n",
              "      <td>34.0</td>\n",
              "      <td>NaN</td>\n",
              "      <td>NaN</td>\n",
              "      <td>48</td>\n",
              "    </tr>\n",
              "    <tr>\n",
              "      <th>2</th>\n",
              "      <td>3</td>\n",
              "      <td>32</td>\n",
              "      <td>JAWA BARAT</td>\n",
              "      <td>3203</td>\n",
              "      <td>KABUPATEN CIANJUR</td>\n",
              "      <td>23</td>\n",
              "      <td>KEJADIAN</td>\n",
              "      <td>2012</td>\n",
              "      <td>1</td>\n",
              "      <td>0</td>\n",
              "      <td>0</td>\n",
              "      <td>4.0</td>\n",
              "      <td>NaN</td>\n",
              "      <td>NaN</td>\n",
              "      <td>9</td>\n",
              "    </tr>\n",
              "    <tr>\n",
              "      <th>3</th>\n",
              "      <td>4</td>\n",
              "      <td>32</td>\n",
              "      <td>JAWA BARAT</td>\n",
              "      <td>3204</td>\n",
              "      <td>KABUPATEN BANDUNG</td>\n",
              "      <td>3</td>\n",
              "      <td>KEJADIAN</td>\n",
              "      <td>2012</td>\n",
              "      <td>17</td>\n",
              "      <td>0</td>\n",
              "      <td>0</td>\n",
              "      <td>3.0</td>\n",
              "      <td>NaN</td>\n",
              "      <td>NaN</td>\n",
              "      <td>12</td>\n",
              "    </tr>\n",
              "    <tr>\n",
              "      <th>4</th>\n",
              "      <td>5</td>\n",
              "      <td>32</td>\n",
              "      <td>JAWA BARAT</td>\n",
              "      <td>3205</td>\n",
              "      <td>KABUPATEN GARUT</td>\n",
              "      <td>28</td>\n",
              "      <td>KEJADIAN</td>\n",
              "      <td>2012</td>\n",
              "      <td>7</td>\n",
              "      <td>1</td>\n",
              "      <td>0</td>\n",
              "      <td>59.0</td>\n",
              "      <td>NaN</td>\n",
              "      <td>NaN</td>\n",
              "      <td>36</td>\n",
              "    </tr>\n",
              "  </tbody>\n",
              "</table>\n",
              "</div>"
            ],
            "text/plain": [
              "   id  kode_provinsi  ... jumlah_kebakaran_lahan  jumlah_tanah_longsor\n",
              "0   1             32  ...                    NaN                     0\n",
              "1   2             32  ...                    NaN                    48\n",
              "2   3             32  ...                    NaN                     9\n",
              "3   4             32  ...                    NaN                    12\n",
              "4   5             32  ...                    NaN                    36\n",
              "\n",
              "[5 rows x 15 columns]"
            ]
          },
          "metadata": {},
          "execution_count": 70
        }
      ]
    },
    {
      "cell_type": "code",
      "metadata": {
        "colab": {
          "base_uri": "https://localhost:8080/"
        },
        "id": "tJ-CfB0Q9nkc",
        "outputId": "a1fefec5-c05e-4ee3-fd4e-7428057917cc"
      },
      "source": [
        "data.columns"
      ],
      "execution_count": 71,
      "outputs": [
        {
          "output_type": "execute_result",
          "data": {
            "text/plain": [
              "Index(['id', 'kode_provinsi', 'nama_provinsi', 'kode_kabupaten_kota',\n",
              "       'nama_kabupaten_kota', 'jumlah_puting_beliung', 'satuan', 'tahun',\n",
              "       'jumlah_banjir', 'jumlah_gelombang_pasang', 'jumlah_gempa_bumi',\n",
              "       'jumlah_kebakaran', 'jumlah_kebakaran_bangunan',\n",
              "       'jumlah_kebakaran_lahan', 'jumlah_tanah_longsor'],\n",
              "      dtype='object')"
            ]
          },
          "metadata": {},
          "execution_count": 71
        }
      ]
    },
    {
      "cell_type": "code",
      "metadata": {
        "colab": {
          "base_uri": "https://localhost:8080/",
          "height": 421
        },
        "id": "YaFblw7yUrvI",
        "outputId": "43a75a5a-7f88-403d-b55a-c6a21eb380a8"
      },
      "source": [
        "data.describe().transpose()"
      ],
      "execution_count": 72,
      "outputs": [
        {
          "output_type": "execute_result",
          "data": {
            "text/html": [
              "<div>\n",
              "<style scoped>\n",
              "    .dataframe tbody tr th:only-of-type {\n",
              "        vertical-align: middle;\n",
              "    }\n",
              "\n",
              "    .dataframe tbody tr th {\n",
              "        vertical-align: top;\n",
              "    }\n",
              "\n",
              "    .dataframe thead th {\n",
              "        text-align: right;\n",
              "    }\n",
              "</style>\n",
              "<table border=\"1\" class=\"dataframe\">\n",
              "  <thead>\n",
              "    <tr style=\"text-align: right;\">\n",
              "      <th></th>\n",
              "      <th>count</th>\n",
              "      <th>mean</th>\n",
              "      <th>std</th>\n",
              "      <th>min</th>\n",
              "      <th>25%</th>\n",
              "      <th>50%</th>\n",
              "      <th>75%</th>\n",
              "      <th>max</th>\n",
              "    </tr>\n",
              "  </thead>\n",
              "  <tbody>\n",
              "    <tr>\n",
              "      <th>id</th>\n",
              "      <td>241.0</td>\n",
              "      <td>121.000000</td>\n",
              "      <td>69.714896</td>\n",
              "      <td>1.0</td>\n",
              "      <td>61.0</td>\n",
              "      <td>121.0</td>\n",
              "      <td>181.0</td>\n",
              "      <td>241.0</td>\n",
              "    </tr>\n",
              "    <tr>\n",
              "      <th>kode_provinsi</th>\n",
              "      <td>241.0</td>\n",
              "      <td>32.000000</td>\n",
              "      <td>0.000000</td>\n",
              "      <td>32.0</td>\n",
              "      <td>32.0</td>\n",
              "      <td>32.0</td>\n",
              "      <td>32.0</td>\n",
              "      <td>32.0</td>\n",
              "    </tr>\n",
              "    <tr>\n",
              "      <th>kode_kabupaten_kota</th>\n",
              "      <td>241.0</td>\n",
              "      <td>3231.443983</td>\n",
              "      <td>31.372460</td>\n",
              "      <td>3201.0</td>\n",
              "      <td>3207.0</td>\n",
              "      <td>3214.0</td>\n",
              "      <td>3273.0</td>\n",
              "      <td>3279.0</td>\n",
              "    </tr>\n",
              "    <tr>\n",
              "      <th>jumlah_puting_beliung</th>\n",
              "      <td>241.0</td>\n",
              "      <td>9.568465</td>\n",
              "      <td>16.817293</td>\n",
              "      <td>0.0</td>\n",
              "      <td>1.0</td>\n",
              "      <td>5.0</td>\n",
              "      <td>12.0</td>\n",
              "      <td>183.0</td>\n",
              "    </tr>\n",
              "    <tr>\n",
              "      <th>tahun</th>\n",
              "      <td>241.0</td>\n",
              "      <td>2016.029046</td>\n",
              "      <td>2.577787</td>\n",
              "      <td>2012.0</td>\n",
              "      <td>2014.0</td>\n",
              "      <td>2016.0</td>\n",
              "      <td>2018.0</td>\n",
              "      <td>2020.0</td>\n",
              "    </tr>\n",
              "    <tr>\n",
              "      <th>jumlah_banjir</th>\n",
              "      <td>241.0</td>\n",
              "      <td>6.717842</td>\n",
              "      <td>9.082220</td>\n",
              "      <td>0.0</td>\n",
              "      <td>1.0</td>\n",
              "      <td>4.0</td>\n",
              "      <td>8.0</td>\n",
              "      <td>71.0</td>\n",
              "    </tr>\n",
              "    <tr>\n",
              "      <th>jumlah_gelombang_pasang</th>\n",
              "      <td>241.0</td>\n",
              "      <td>0.087137</td>\n",
              "      <td>0.393542</td>\n",
              "      <td>0.0</td>\n",
              "      <td>0.0</td>\n",
              "      <td>0.0</td>\n",
              "      <td>0.0</td>\n",
              "      <td>4.0</td>\n",
              "    </tr>\n",
              "    <tr>\n",
              "      <th>jumlah_gempa_bumi</th>\n",
              "      <td>241.0</td>\n",
              "      <td>1.941909</td>\n",
              "      <td>7.783847</td>\n",
              "      <td>0.0</td>\n",
              "      <td>0.0</td>\n",
              "      <td>0.0</td>\n",
              "      <td>1.0</td>\n",
              "      <td>70.0</td>\n",
              "    </tr>\n",
              "    <tr>\n",
              "      <th>jumlah_kebakaran</th>\n",
              "      <td>187.0</td>\n",
              "      <td>11.545455</td>\n",
              "      <td>17.175934</td>\n",
              "      <td>0.0</td>\n",
              "      <td>0.0</td>\n",
              "      <td>4.0</td>\n",
              "      <td>16.0</td>\n",
              "      <td>93.0</td>\n",
              "    </tr>\n",
              "    <tr>\n",
              "      <th>jumlah_kebakaran_bangunan</th>\n",
              "      <td>0.0</td>\n",
              "      <td>NaN</td>\n",
              "      <td>NaN</td>\n",
              "      <td>NaN</td>\n",
              "      <td>NaN</td>\n",
              "      <td>NaN</td>\n",
              "      <td>NaN</td>\n",
              "      <td>NaN</td>\n",
              "    </tr>\n",
              "    <tr>\n",
              "      <th>jumlah_kebakaran_lahan</th>\n",
              "      <td>0.0</td>\n",
              "      <td>NaN</td>\n",
              "      <td>NaN</td>\n",
              "      <td>NaN</td>\n",
              "      <td>NaN</td>\n",
              "      <td>NaN</td>\n",
              "      <td>NaN</td>\n",
              "      <td>NaN</td>\n",
              "    </tr>\n",
              "    <tr>\n",
              "      <th>jumlah_tanah_longsor</th>\n",
              "      <td>241.0</td>\n",
              "      <td>17.738589</td>\n",
              "      <td>26.179073</td>\n",
              "      <td>0.0</td>\n",
              "      <td>1.0</td>\n",
              "      <td>6.0</td>\n",
              "      <td>25.0</td>\n",
              "      <td>133.0</td>\n",
              "    </tr>\n",
              "  </tbody>\n",
              "</table>\n",
              "</div>"
            ],
            "text/plain": [
              "                           count         mean  ...     75%     max\n",
              "id                         241.0   121.000000  ...   181.0   241.0\n",
              "kode_provinsi              241.0    32.000000  ...    32.0    32.0\n",
              "kode_kabupaten_kota        241.0  3231.443983  ...  3273.0  3279.0\n",
              "jumlah_puting_beliung      241.0     9.568465  ...    12.0   183.0\n",
              "tahun                      241.0  2016.029046  ...  2018.0  2020.0\n",
              "jumlah_banjir              241.0     6.717842  ...     8.0    71.0\n",
              "jumlah_gelombang_pasang    241.0     0.087137  ...     0.0     4.0\n",
              "jumlah_gempa_bumi          241.0     1.941909  ...     1.0    70.0\n",
              "jumlah_kebakaran           187.0    11.545455  ...    16.0    93.0\n",
              "jumlah_kebakaran_bangunan    0.0          NaN  ...     NaN     NaN\n",
              "jumlah_kebakaran_lahan       0.0          NaN  ...     NaN     NaN\n",
              "jumlah_tanah_longsor       241.0    17.738589  ...    25.0   133.0\n",
              "\n",
              "[12 rows x 8 columns]"
            ]
          },
          "metadata": {},
          "execution_count": 72
        }
      ]
    },
    {
      "cell_type": "code",
      "metadata": {
        "colab": {
          "base_uri": "https://localhost:8080/",
          "height": 275
        },
        "id": "3myzSCceb44f",
        "outputId": "9541bf11-5f61-4c49-a934-20fbfd765960"
      },
      "source": [
        "data.rename(index=str, columns={'jumlah_banjir': 'banjir', 'jumlah_gelombang_pasang' : 'pasang', \n",
        "                              'jumlah_gempa_bumi' : 'gempa', 'jumlah_kebakaran' : 'kebakaran',\n",
        "                              'jumlah_kebakaran_lahan' : 'kebakaran_lahan', 'jumlah_kebakaran_bangunan' : \n",
        "                              'kebakaran_bangunan', 'jumlah_tanah_longsor' : 'longsor', 'jumlah_puting_beliung' : 'puting_beliung'}, inplace =True)\n",
        "data = data.drop(['id'], axis=1).head()\n",
        "data"
      ],
      "execution_count": 73,
      "outputs": [
        {
          "output_type": "execute_result",
          "data": {
            "text/html": [
              "<div>\n",
              "<style scoped>\n",
              "    .dataframe tbody tr th:only-of-type {\n",
              "        vertical-align: middle;\n",
              "    }\n",
              "\n",
              "    .dataframe tbody tr th {\n",
              "        vertical-align: top;\n",
              "    }\n",
              "\n",
              "    .dataframe thead th {\n",
              "        text-align: right;\n",
              "    }\n",
              "</style>\n",
              "<table border=\"1\" class=\"dataframe\">\n",
              "  <thead>\n",
              "    <tr style=\"text-align: right;\">\n",
              "      <th></th>\n",
              "      <th>kode_provinsi</th>\n",
              "      <th>nama_provinsi</th>\n",
              "      <th>kode_kabupaten_kota</th>\n",
              "      <th>nama_kabupaten_kota</th>\n",
              "      <th>puting_beliung</th>\n",
              "      <th>satuan</th>\n",
              "      <th>tahun</th>\n",
              "      <th>banjir</th>\n",
              "      <th>pasang</th>\n",
              "      <th>gempa</th>\n",
              "      <th>kebakaran</th>\n",
              "      <th>kebakaran_bangunan</th>\n",
              "      <th>kebakaran_lahan</th>\n",
              "      <th>longsor</th>\n",
              "    </tr>\n",
              "  </thead>\n",
              "  <tbody>\n",
              "    <tr>\n",
              "      <th>0</th>\n",
              "      <td>32</td>\n",
              "      <td>JAWA BARAT</td>\n",
              "      <td>3201</td>\n",
              "      <td>KABUPATEN BOGOR</td>\n",
              "      <td>2</td>\n",
              "      <td>KEJADIAN</td>\n",
              "      <td>2012</td>\n",
              "      <td>0</td>\n",
              "      <td>0</td>\n",
              "      <td>3</td>\n",
              "      <td>0.0</td>\n",
              "      <td>NaN</td>\n",
              "      <td>NaN</td>\n",
              "      <td>0</td>\n",
              "    </tr>\n",
              "    <tr>\n",
              "      <th>1</th>\n",
              "      <td>32</td>\n",
              "      <td>JAWA BARAT</td>\n",
              "      <td>3202</td>\n",
              "      <td>KABUPATEN SUKABUMI</td>\n",
              "      <td>27</td>\n",
              "      <td>KEJADIAN</td>\n",
              "      <td>2012</td>\n",
              "      <td>20</td>\n",
              "      <td>0</td>\n",
              "      <td>41</td>\n",
              "      <td>34.0</td>\n",
              "      <td>NaN</td>\n",
              "      <td>NaN</td>\n",
              "      <td>48</td>\n",
              "    </tr>\n",
              "    <tr>\n",
              "      <th>2</th>\n",
              "      <td>32</td>\n",
              "      <td>JAWA BARAT</td>\n",
              "      <td>3203</td>\n",
              "      <td>KABUPATEN CIANJUR</td>\n",
              "      <td>23</td>\n",
              "      <td>KEJADIAN</td>\n",
              "      <td>2012</td>\n",
              "      <td>1</td>\n",
              "      <td>0</td>\n",
              "      <td>0</td>\n",
              "      <td>4.0</td>\n",
              "      <td>NaN</td>\n",
              "      <td>NaN</td>\n",
              "      <td>9</td>\n",
              "    </tr>\n",
              "    <tr>\n",
              "      <th>3</th>\n",
              "      <td>32</td>\n",
              "      <td>JAWA BARAT</td>\n",
              "      <td>3204</td>\n",
              "      <td>KABUPATEN BANDUNG</td>\n",
              "      <td>3</td>\n",
              "      <td>KEJADIAN</td>\n",
              "      <td>2012</td>\n",
              "      <td>17</td>\n",
              "      <td>0</td>\n",
              "      <td>0</td>\n",
              "      <td>3.0</td>\n",
              "      <td>NaN</td>\n",
              "      <td>NaN</td>\n",
              "      <td>12</td>\n",
              "    </tr>\n",
              "    <tr>\n",
              "      <th>4</th>\n",
              "      <td>32</td>\n",
              "      <td>JAWA BARAT</td>\n",
              "      <td>3205</td>\n",
              "      <td>KABUPATEN GARUT</td>\n",
              "      <td>28</td>\n",
              "      <td>KEJADIAN</td>\n",
              "      <td>2012</td>\n",
              "      <td>7</td>\n",
              "      <td>1</td>\n",
              "      <td>0</td>\n",
              "      <td>59.0</td>\n",
              "      <td>NaN</td>\n",
              "      <td>NaN</td>\n",
              "      <td>36</td>\n",
              "    </tr>\n",
              "  </tbody>\n",
              "</table>\n",
              "</div>"
            ],
            "text/plain": [
              "   kode_provinsi nama_provinsi  ...  kebakaran_lahan longsor\n",
              "0             32    JAWA BARAT  ...              NaN       0\n",
              "1             32    JAWA BARAT  ...              NaN      48\n",
              "2             32    JAWA BARAT  ...              NaN       9\n",
              "3             32    JAWA BARAT  ...              NaN      12\n",
              "4             32    JAWA BARAT  ...              NaN      36\n",
              "\n",
              "[5 rows x 14 columns]"
            ]
          },
          "metadata": {},
          "execution_count": 73
        }
      ]
    },
    {
      "cell_type": "code",
      "metadata": {
        "colab": {
          "base_uri": "https://localhost:8080/"
        },
        "id": "26SmoBg6Us7W",
        "outputId": "f7645494-250c-48d5-fe90-fa240e0fc19a"
      },
      "source": [
        "data.info()"
      ],
      "execution_count": 74,
      "outputs": [
        {
          "output_type": "stream",
          "name": "stdout",
          "text": [
            "<class 'pandas.core.frame.DataFrame'>\n",
            "Index: 5 entries, 0 to 4\n",
            "Data columns (total 14 columns):\n",
            " #   Column               Non-Null Count  Dtype  \n",
            "---  ------               --------------  -----  \n",
            " 0   kode_provinsi        5 non-null      int64  \n",
            " 1   nama_provinsi        5 non-null      object \n",
            " 2   kode_kabupaten_kota  5 non-null      int64  \n",
            " 3   nama_kabupaten_kota  5 non-null      object \n",
            " 4   puting_beliung       5 non-null      int64  \n",
            " 5   satuan               5 non-null      object \n",
            " 6   tahun                5 non-null      int64  \n",
            " 7   banjir               5 non-null      int64  \n",
            " 8   pasang               5 non-null      int64  \n",
            " 9   gempa                5 non-null      int64  \n",
            " 10  kebakaran            5 non-null      float64\n",
            " 11  kebakaran_bangunan   0 non-null      float64\n",
            " 12  kebakaran_lahan      0 non-null      float64\n",
            " 13  longsor              5 non-null      int64  \n",
            "dtypes: float64(3), int64(8), object(3)\n",
            "memory usage: 600.0+ bytes\n"
          ]
        }
      ]
    },
    {
      "cell_type": "code",
      "metadata": {
        "colab": {
          "base_uri": "https://localhost:8080/"
        },
        "id": "A1lsPghSUueR",
        "outputId": "4966309b-a5aa-4c44-98c5-e3bd64008d92"
      },
      "source": [
        "data.isnull().sum()"
      ],
      "execution_count": 76,
      "outputs": [
        {
          "output_type": "execute_result",
          "data": {
            "text/plain": [
              "kode_provinsi          0\n",
              "nama_provinsi          0\n",
              "kode_kabupaten_kota    0\n",
              "nama_kabupaten_kota    0\n",
              "puting_beliung         0\n",
              "satuan                 0\n",
              "tahun                  0\n",
              "banjir                 0\n",
              "pasang                 0\n",
              "gempa                  0\n",
              "kebakaran              0\n",
              "kebakaran_bangunan     5\n",
              "kebakaran_lahan        5\n",
              "longsor                0\n",
              "dtype: int64"
            ]
          },
          "metadata": {},
          "execution_count": 76
        }
      ]
    },
    {
      "cell_type": "markdown",
      "metadata": {
        "id": "8ht_XMj5VBfq"
      },
      "source": [
        "Terlihat bahwa, pada kolom \"kebakaran_bangunan\" dan \"kebakaran_lahan\" terdapat nilai Null"
      ]
    }
  ]
}